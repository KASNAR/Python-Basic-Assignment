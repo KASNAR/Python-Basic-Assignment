{
  "nbformat": 4,
  "nbformat_minor": 0,
  "metadata": {
    "colab": {
      "provenance": []
    },
    "kernelspec": {
      "name": "python3",
      "display_name": "Python 3"
    },
    "language_info": {
      "name": "python"
    }
  },
  "cells": [
    {
      "cell_type": "code",
      "execution_count": null,
      "metadata": {
        "id": "G1fAof-cnBl4",
        "colab": {
          "base_uri": "https://localhost:8080/"
        },
        "outputId": "a0fdf396-bc4b-4ce9-9dde-392fcdb50264"
      },
      "outputs": [
        {
          "output_type": "stream",
          "name": "stdout",
          "text": [
            "Hello, World!\n"
          ]
        }
      ],
      "source": [
        "print(\"Hello, World!\")"
      ]
    },
    {
      "cell_type": "code",
      "source": [
        "name = \"Kartik Narayan\"\n",
        "age = 25\n",
        "\n",
        "print(\"Name:\", name)\n",
        "print(\"Age:\", age)"
      ],
      "metadata": {
        "colab": {
          "base_uri": "https://localhost:8080/"
        },
        "id": "Yimy8JRhdUp7",
        "outputId": "66e704c3-345b-4ef6-f1fa-aa4ae04cb05a"
      },
      "execution_count": null,
      "outputs": [
        {
          "output_type": "stream",
          "name": "stdout",
          "text": [
            "Name: Kartik Narayan\n",
            "Age: 25\n"
          ]
        }
      ]
    },
    {
      "cell_type": "code",
      "source": [
        "import keyword\n",
        "\n",
        "# Get the list of all Python keywords\n",
        "keywords = keyword.kwlist\n",
        "\n",
        "print(\"Python Keywords:\")\n",
        "for kw in keywords:\n",
        "    print(kw)"
      ],
      "metadata": {
        "colab": {
          "base_uri": "https://localhost:8080/"
        },
        "id": "-reAnKH5dUs-",
        "outputId": "a4772794-3288-421e-9a76-0b33a6b3a877"
      },
      "execution_count": null,
      "outputs": [
        {
          "output_type": "stream",
          "name": "stdout",
          "text": [
            "Python Keywords:\n",
            "False\n",
            "None\n",
            "True\n",
            "and\n",
            "as\n",
            "assert\n",
            "async\n",
            "await\n",
            "break\n",
            "class\n",
            "continue\n",
            "def\n",
            "del\n",
            "elif\n",
            "else\n",
            "except\n",
            "finally\n",
            "for\n",
            "from\n",
            "global\n",
            "if\n",
            "import\n",
            "in\n",
            "is\n",
            "lambda\n",
            "nonlocal\n",
            "not\n",
            "or\n",
            "pass\n",
            "raise\n",
            "return\n",
            "try\n",
            "while\n",
            "with\n",
            "yield\n"
          ]
        }
      ]
    },
    {
      "cell_type": "code",
      "source": [
        "import keyword\n",
        "\n",
        "# Get user input\n",
        "word = input(\"Enter a word: \")\n",
        "\n",
        "# Check if it's a keyword\n",
        "if keyword.iskeyword(word):\n",
        "    print(f\"'{word}' is a Python keyword.\")\n",
        "else:\n",
        "    print(f\"'{word}' is NOT a Python keyword.\")"
      ],
      "metadata": {
        "colab": {
          "base_uri": "https://localhost:8080/"
        },
        "id": "ZTKrxOx0dUv2",
        "outputId": "68c3d339-66a1-4234-d72b-d57f0dfa96bc"
      },
      "execution_count": null,
      "outputs": [
        {
          "output_type": "stream",
          "name": "stdout",
          "text": [
            "Enter a word: Kartik\n",
            "'Kartik' is NOT a Python keyword.\n"
          ]
        }
      ]
    },
    {
      "cell_type": "code",
      "source": [
        "# Creating a list and a tuple\n",
        "my_list = [1, 2, 3]\n",
        "my_tuple = (1, 2, 3)\n",
        "\n",
        "# Modifying list\n",
        "print(\"Original list:\", my_list)\n",
        "my_list[0] = 10\n",
        "print(\"Modified list:\", my_list)\n",
        "\n",
        "# Modifying tuple\n",
        "print(\"\\nOriginal tuple:\", my_tuple)\n",
        "try:\n",
        "    my_tuple[0] = 10\n",
        "except TypeError as e:\n",
        "    print(\"Error when modifying tuple:\", e)\n"
      ],
      "metadata": {
        "colab": {
          "base_uri": "https://localhost:8080/"
        },
        "id": "gRDP101rdUzA",
        "outputId": "b7efd135-87a0-4385-d0e1-ee41ff1e9531"
      },
      "execution_count": null,
      "outputs": [
        {
          "output_type": "stream",
          "name": "stdout",
          "text": [
            "Original list: [1, 2, 3]\n",
            "Modified list: [10, 2, 3]\n",
            "\n",
            "Original tuple: (1, 2, 3)\n",
            "Error when modifying tuple: 'tuple' object does not support item assignment\n"
          ]
        }
      ]
    },
    {
      "cell_type": "code",
      "source": [
        "def modify_arguments(immutable_arg, mutable_arg):\n",
        "    print(\"Inside function before change:\")\n",
        "    print(\"Immutable:\", immutable_arg)\n",
        "    print(\"Mutable:\", mutable_arg)\n",
        "\n",
        "    # Try modifying both arguments\n",
        "    immutable_arg += 10       # This creates a new object (immutable)\n",
        "    mutable_arg.append(4)     # This modifies the original list (mutable)\n",
        "\n",
        "    print(\"Inside function after change:\")\n",
        "    print(\"Immutable:\", immutable_arg)\n",
        "    print(\"Mutable:\", mutable_arg)\n",
        "\n",
        "\n",
        "# Main program\n",
        "x = 5             # int is immutable\n",
        "y = [1, 2, 3]     # list is mutable\n",
        "\n",
        "modify_arguments(x, y)\n",
        "\n",
        "print(\"\\nOutside function:\")\n",
        "print(\"Immutable (x):\", x)    # unchanged\n",
        "print(\"Mutable (y):\", y)      # changed\n"
      ],
      "metadata": {
        "colab": {
          "base_uri": "https://localhost:8080/"
        },
        "id": "o9LB-k5_dU14",
        "outputId": "174532d8-6472-4bf9-f9db-b02d8a5f5535"
      },
      "execution_count": null,
      "outputs": [
        {
          "output_type": "stream",
          "name": "stdout",
          "text": [
            "Inside function before change:\n",
            "Immutable: 5\n",
            "Mutable: [1, 2, 3]\n",
            "Inside function after change:\n",
            "Immutable: 15\n",
            "Mutable: [1, 2, 3, 4]\n",
            "\n",
            "Outside function:\n",
            "Immutable (x): 5\n",
            "Mutable (y): [1, 2, 3, 4]\n"
          ]
        }
      ]
    },
    {
      "cell_type": "code",
      "source": [
        "# Get input from the user\n",
        "num1 = float(input(\"Enter the first number: \"))\n",
        "num2 = float(input(\"Enter the second number: \"))\n",
        "\n",
        "# Perform arithmetic operations\n",
        "print(\"\\nArithmetic Operations:\")\n",
        "print(\"Addition:\", num1 + num2)\n",
        "print(\"Subtraction:\", num1 - num2)\n",
        "print(\"Multiplication:\", num1 * num2)\n",
        "\n",
        "# Handle division safely\n",
        "if num2 != 0:\n",
        "    print(\"Division:\", num1 / num2)\n",
        "else:\n",
        "    print(\"Division: Cannot divide by zero!\")"
      ],
      "metadata": {
        "colab": {
          "base_uri": "https://localhost:8080/"
        },
        "id": "qD9LjsWPdU4t",
        "outputId": "d7505c3e-2765-4482-ebee-4ac8d612d97b"
      },
      "execution_count": null,
      "outputs": [
        {
          "output_type": "stream",
          "name": "stdout",
          "text": [
            "Enter the first number: 25\n",
            "Enter the second number: 50\n",
            "\n",
            "Arithmetic Operations:\n",
            "Addition: 75.0\n",
            "Subtraction: -25.0\n",
            "Multiplication: 1250.0\n",
            "Division: 0.5\n"
          ]
        }
      ]
    },
    {
      "cell_type": "code",
      "source": [
        "# Define some boolean values\n",
        "a = True\n",
        "b = False\n",
        "\n",
        "print(\"Logical Operators Demonstration:\\n\")\n",
        "\n",
        "# Logical AND\n",
        "print(\"a and b:\", a and b)   # False\n",
        "print(\"a and True:\", a and True)  # True\n",
        "\n",
        "# Logical OR\n",
        "print(\"a or b:\", a or b)     # True\n",
        "print(\"b or False:\", b or False)  # False\n",
        "\n",
        "# Logical NOT\n",
        "print(\"not a:\", not a)       # False\n",
        "print(\"not b:\", not b)       # True"
      ],
      "metadata": {
        "colab": {
          "base_uri": "https://localhost:8080/"
        },
        "id": "Lextjxn1dU7o",
        "outputId": "23343c19-5093-408d-df45-bc7dec5a13e4"
      },
      "execution_count": null,
      "outputs": [
        {
          "output_type": "stream",
          "name": "stdout",
          "text": [
            "Logical Operators Demonstration:\n",
            "\n",
            "a and b: False\n",
            "a and True: True\n",
            "a or b: True\n",
            "b or False: False\n",
            "not a: False\n",
            "not b: True\n"
          ]
        }
      ]
    },
    {
      "cell_type": "code",
      "source": [
        "# Get user input as a string\n",
        "user_input = input(\"Enter a value: \")\n",
        "\n",
        "# Convert to integer\n",
        "try:\n",
        "    int_value = int(user_input)\n",
        "    print(\"Integer:\", int_value)\n",
        "except ValueError:\n",
        "    print(\"Cannot convert to integer.\")\n",
        "\n",
        "# Convert to float\n",
        "try:\n",
        "    float_value = float(user_input)\n",
        "    print(\"Float:\", float_value)\n",
        "except ValueError:\n",
        "    print(\"Cannot convert to float.\")\n",
        "\n",
        "# Convert to boolean\n",
        "# Non-empty string and non-zero numbers are considered True\n",
        "bool_value = bool(user_input)\n",
        "print(\"Boolean:\", bool_value)\n",
        "\n"
      ],
      "metadata": {
        "colab": {
          "base_uri": "https://localhost:8080/"
        },
        "id": "NGFwXsfifCHb",
        "outputId": "7893ee68-c090-48d6-daf8-8f50d75c071f"
      },
      "execution_count": null,
      "outputs": [
        {
          "output_type": "stream",
          "name": "stdout",
          "text": [
            "Enter a value: 12\n",
            "Integer: 12\n",
            "Float: 12.0\n",
            "Boolean: True\n"
          ]
        }
      ]
    },
    {
      "cell_type": "code",
      "source": [
        "# List of string numbers\n",
        "str_list = ['1', '2', '3', '4.5', '6.7']\n",
        "\n",
        "print(\"Original list (strings):\", str_list)\n",
        "\n",
        "# Convert to integers (only whole numbers)\n",
        "int_list = [int(x) for x in str_list if x.isdigit()]\n",
        "print(\"Converted to integers:\", int_list)\n",
        "\n",
        "# Convert to floats\n",
        "float_list = [float(x) for x in str_list]\n",
        "print(\"Converted to floats:\", float_list)\n",
        "\n",
        "# Convert back to strings\n",
        "str_from_float = [str(x) for x in float_list]\n",
        "print(\"Converted back to strings:\", str_from_float)\n",
        "\n",
        "\n",
        "\n",
        "\n",
        "\n",
        "\n",
        "\n",
        "\n"
      ],
      "metadata": {
        "colab": {
          "base_uri": "https://localhost:8080/"
        },
        "id": "ITxDRwTOfCLX",
        "outputId": "6c839f7c-fb9d-4c08-9beb-7debb51031ca"
      },
      "execution_count": null,
      "outputs": [
        {
          "output_type": "stream",
          "name": "stdout",
          "text": [
            "Original list (strings): ['1', '2', '3', '4.5', '6.7']\n",
            "Converted to integers: [1, 2, 3]\n",
            "Converted to floats: [1.0, 2.0, 3.0, 4.5, 6.7]\n",
            "Converted back to strings: ['1.0', '2.0', '3.0', '4.5', '6.7']\n"
          ]
        }
      ]
    },
    {
      "cell_type": "code",
      "source": [
        "# Get input from the user\n",
        "num = float(input(\"Enter a number: \"))\n",
        "\n",
        "# Check if the number is positive, negative, or zero\n",
        "if num > 0:\n",
        "    print(\"The number is positive.\")\n",
        "elif num < 0:\n",
        "    print(\"The number is negative.\")\n",
        "else:\n",
        "    print(\"The number is zero.\")"
      ],
      "metadata": {
        "colab": {
          "base_uri": "https://localhost:8080/"
        },
        "id": "5v_ucMHQfCOg",
        "outputId": "26fe465b-24b2-4e88-d6a1-d7ddff7f00b8"
      },
      "execution_count": null,
      "outputs": [
        {
          "output_type": "stream",
          "name": "stdout",
          "text": [
            "Enter a number: 87\n",
            "The number is positive.\n"
          ]
        }
      ]
    },
    {
      "cell_type": "code",
      "source": [
        "for i in range(1, 11):\n",
        "    print(i)"
      ],
      "metadata": {
        "colab": {
          "base_uri": "https://localhost:8080/"
        },
        "id": "JNEg7CmkfCRI",
        "outputId": "ad66e3d1-2511-43d3-ecfd-fdc4238be2cc"
      },
      "execution_count": null,
      "outputs": [
        {
          "output_type": "stream",
          "name": "stdout",
          "text": [
            "1\n",
            "2\n",
            "3\n",
            "4\n",
            "5\n",
            "6\n",
            "7\n",
            "8\n",
            "9\n",
            "10\n"
          ]
        }
      ]
    },
    {
      "cell_type": "code",
      "source": [
        "# Initialize sum\n",
        "even_sum = 0\n",
        "\n",
        "# Loop through numbers from 1 to 50\n",
        "for num in range(1, 51):\n",
        "    if num % 2 == 0:\n",
        "        even_sum += num\n",
        "\n",
        "# Print the result\n",
        "print(\"Sum of even numbers from 1 to 50 is:\", even_sum)"
      ],
      "metadata": {
        "colab": {
          "base_uri": "https://localhost:8080/"
        },
        "id": "wWwdqXClfCUr",
        "outputId": "4a8e0bf7-9b06-487b-d58c-fd3b83e5ecb1"
      },
      "execution_count": null,
      "outputs": [
        {
          "output_type": "stream",
          "name": "stdout",
          "text": [
            "Sum of even numbers from 1 to 50 is: 650\n"
          ]
        }
      ]
    },
    {
      "cell_type": "code",
      "source": [
        "# Get input from the user\n",
        "text = input(\"Enter a string: \")\n",
        "\n",
        "# Initialize an empty string for the reversed result\n",
        "reversed_text = \"\"\n",
        "\n",
        "# Initialize index to the last character\n",
        "index = len(text) - 1\n",
        "\n",
        "# Loop backward through the string\n",
        "while index >= 0:\n",
        "    reversed_text += text[index]\n",
        "    index -= 1\n",
        "\n",
        "# Print the reversed string\n",
        "print(\"Reversed string:\", reversed_text)"
      ],
      "metadata": {
        "colab": {
          "base_uri": "https://localhost:8080/"
        },
        "id": "H9kg6DDKfCXE",
        "outputId": "ac8ded60-bc53-4113-decf-08063ecaf886"
      },
      "execution_count": null,
      "outputs": [
        {
          "output_type": "stream",
          "name": "stdout",
          "text": [
            "Enter a string: 12\n",
            "Reversed string: 21\n"
          ]
        }
      ]
    },
    {
      "cell_type": "code",
      "source": [
        "# Get input from the user\n",
        "num = int(input(\"Enter a non-negative integer: \"))\n",
        "\n",
        "# Check for negative input\n",
        "if num < 0:\n",
        "    print(\"Factorial is not defined for negative numbers.\")\n",
        "else:\n",
        "    factorial = 1\n",
        "    i = 1\n",
        "\n",
        "    while i <= num:\n",
        "        factorial *= i\n",
        "        i += 1\n",
        "\n",
        "    print(f\"Factorial of {num} is: {factorial}\")"
      ],
      "metadata": {
        "colab": {
          "base_uri": "https://localhost:8080/"
        },
        "id": "1zEaoSnhfCaH",
        "outputId": "096a7f56-4f00-405e-b937-397202e6c861"
      },
      "execution_count": null,
      "outputs": [
        {
          "output_type": "stream",
          "name": "stdout",
          "text": [
            "Enter a non-negative integer: 5\n",
            "Factorial of 5 is: 120\n"
          ]
        }
      ]
    },
    {
      "cell_type": "markdown",
      "source": [
        "1 What is Python, and why is it popular\n",
        "\n",
        " Python is high level interpreted langugage known for simplicity readibility and varsatility.\n",
        "\n",
        "popular-\n",
        "\n",
        "Easy to learn and read\n",
        "huge standard library\n",
        "massive ecosystem\n",
        "\n",
        "2  What is an interpreter in Python  \n",
        "\n",
        "A interpreter in python is a program that reads and execute python code line by line.Convertin it into machine readable instrutions at runtime.\n",
        "\n",
        "3 What are pre-defined keywords in Python\n",
        "\n",
        " Pre difined keywords in python are reserved words that has special meaning in the language. you cant use them as variable name, function namr or identifier.\n",
        "\n",
        "4 Can keywords be used as variable names\n",
        "\n",
        " No keywords canot be used as variable name in python because theese are reserved words that are the part of core python language.\n",
        "\n",
        "5  What is mutability in Python\n",
        "\n",
        "Mutability in python refers to whether or not an object cab be changed after its created.\n",
        "\n",
        "6 Why are lists mutable, but tuples are immutable\n",
        "\n",
        "Lists are designed to be flexible and dynamic\n",
        "\n",
        "add remove or changed items\n",
        "resize the list\n",
        "\n",
        "7  What is the difference between “==” and “is” operators in Python\n",
        "\n",
        "operator      meaning        check                           example\n",
        "  ==           Equality   Same value                         True\n",
        "  is           Identity   same memory id                     False\n",
        "\n",
        "8  What are logical operators in Python\n",
        "\n",
        "Logical operator are used to combine or compare boolean expression true or false in python.\n",
        "\n",
        "and  - logical And\n",
        "or    - Logical OR\n",
        "not  - Logical NOT\n",
        "\n",
        "9 What is type casting in Python\n",
        "\n",
        " Type casting in python means converting one data type into another eg turning a string into integer or float into string\n",
        "\n",
        "10   What is the difference between implicit and explicit type casting\n",
        "\n",
        "            Implicit                            Explicit\n",
        "     Type coersion                                Type conversion\n",
        "     Python does it automically                You do it manually\n",
        "     safe and predictable                      can cause error\n",
        "\n",
        "11  What is the purpose of conditional statements in Python\n",
        "\n",
        "Conditional statements in python is used to make decision based on whether a condition is True Or False\n",
        "\n",
        "12  How does the elif statement work\n",
        "\n",
        "  It is used to check multiple conditions one after another.\n",
        "To test additional  condition if the if  first condition is false\n",
        "Help avoid writing multiple nested if....else blocks\n",
        "\n",
        "13 What is the difference between for and while loops\n",
        "\n",
        " Both for and while loop are used to repeat a block of code but they are used in different scenerio\n",
        "\n",
        "For Loop -  Used when you know the number of iteratios\n",
        "\n",
        "While Loop - used when you dont know how many times\n",
        "\n",
        "14 Describe a scenario where a while loop is more suitable than a for loop\n",
        "\n",
        " while loop is better when you dont know in advance how many times the loop need to run ypu just know the condition under which it continue.\n",
        "\n",
        "\n"
      ],
      "metadata": {
        "id": "ofI2yRlHnPFU"
      }
    }
  ]
}